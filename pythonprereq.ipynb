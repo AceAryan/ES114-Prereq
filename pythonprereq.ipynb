{
 "cells": [
  {
   "cell_type": "markdown",
   "id": "16d8eb56",
   "metadata": {},
   "source": [
    "### 1.List Operations and Basic Statistics"
   ]
  },
  {
   "cell_type": "code",
   "execution_count": 1,
   "id": "d88648a6",
   "metadata": {},
   "outputs": [
    {
     "name": "stdout",
     "output_type": "stream",
     "text": [
      "[1, 2, 3, 4, 5, 6, 7, 8, 9, 10, 11, 12, 13, 14, 15, 16, 17, 18, 19, 20]\n"
     ]
    }
   ],
   "source": [
    "list1=[]\n",
    "for i in range(1,21):\n",
    "    list1.append(i)\n",
    "print(list1)"
   ]
  },
  {
   "cell_type": "code",
   "execution_count": 2,
   "id": "8f7ab018",
   "metadata": {},
   "outputs": [
    {
     "name": "stdout",
     "output_type": "stream",
     "text": [
      "110\n"
     ]
    }
   ],
   "source": [
    "sum=0\n",
    "for element in list1:\n",
    "    if element%2==0:\n",
    "        sum+=element\n",
    "print(sum)"
   ]
  },
  {
   "cell_type": "code",
   "execution_count": 3,
   "id": "6a0c7a7c",
   "metadata": {},
   "outputs": [
    {
     "name": "stdout",
     "output_type": "stream",
     "text": [
      "654729075\n"
     ]
    }
   ],
   "source": [
    "product=1\n",
    "for element in list1:\n",
    "    if element%2==1:\n",
    "        product*=element\n",
    "print(product)"
   ]
  },
  {
   "cell_type": "code",
   "execution_count": 4,
   "id": "7e04f646",
   "metadata": {},
   "outputs": [
    {
     "name": "stdout",
     "output_type": "stream",
     "text": [
      "10.5\n",
      "10.5\n",
      "5.916079783099616\n"
     ]
    }
   ],
   "source": [
    "sum=0\n",
    "count=0\n",
    "for i in range(0,20):\n",
    "    sum+=list1[i]\n",
    "    count+=1\n",
    "mean=float(sum/count)\n",
    "print(mean)\n",
    "#  as there are 20(even) terms,\n",
    "#  we have to take the average of the middle terms\n",
    "#  to get median\n",
    "median=(list1[count//2-1]+list1[count//2])/2\n",
    "print(median)\n",
    "\n",
    "ssd=0\n",
    "for x in list1:\n",
    "    ssd+=(x-mean)**2\n",
    "standard_deviation = (ssd/(count-1))**0.5\n",
    "print(standard_deviation)"
   ]
  },
  {
   "cell_type": "markdown",
   "id": "1880b558",
   "metadata": {},
   "source": [
    "### 2.Mutable vs Immutable Data Types"
   ]
  },
  {
   "cell_type": "markdown",
   "id": "f69b7f4a",
   "metadata": {},
   "source": [
    "Immutable data types are the data types which once created cannot be edited further via any means i.e you cannot delete or change the existing stuff however we can add more stuff in it. For example, strings.\n",
    "\n",
    "Mutable data types are the data types in which the data can be edited and changed after creation. For example, lists and dictionaries."
   ]
  },
  {
   "cell_type": "markdown",
   "id": "dc6f06fd",
   "metadata": {},
   "source": [
    "### 3.Fibonacci Sequence"
   ]
  },
  {
   "cell_type": "code",
   "execution_count": 5,
   "id": "6be91296",
   "metadata": {},
   "outputs": [
    {
     "name": "stdout",
     "output_type": "stream",
     "text": [
      "[1, 1, 2, 3, 5, 8, 13, 21, 34, 55]\n"
     ]
    }
   ],
   "source": [
    "def fibonacci(n):\n",
    "    if(n==2 or n==1):\n",
    "        return 1\n",
    "    return fibonacci(n-1)+fibonacci(n-2)\n",
    "\n",
    "# n=int(input(\"enter number here: \"))\n",
    "n=10\n",
    "# for testing (as jupyter was not taking input)\n",
    "\n",
    "list1=[]\n",
    "for i in range(1,n+1):\n",
    "    list1.append(fibonacci(i))\n",
    "\n",
    "print(list1)"
   ]
  },
  {
   "cell_type": "code",
   "execution_count": 6,
   "id": "b817a098",
   "metadata": {},
   "outputs": [
    {
     "name": "stderr",
     "output_type": "stream",
     "text": [
      "C:\\Users\\Lenovo\\AppData\\Local\\Temp\\ipykernel_22608\\2113545044.py:19: UserWarning: No artists with labels found to put in legend.  Note that artists whose label start with an underscore are ignored when legend() is called with no argument.\n",
      "  plt.legend()\n"
     ]
    },
    {
     "data": {
      "image/png": "[encoded data removed]",
      "text/plain": [
       "<Figure size 640x480 with 1 Axes>"
      ]
     },
     "metadata": {},
     "output_type": "display_data"
    }
   ],
   "source": [
    "def fibonacci(n):\n",
    "    if(n==2 or n==1):\n",
    "        return 1\n",
    "    return fibonacci(n-1)+fibonacci(n-2)\n",
    "\n",
    "n=int(input(\"enter number here: \"))\n",
    "\n",
    "list1=[]\n",
    "for i in range(1,n+1):\n",
    "    list1.append(fibonacci(i))\n",
    "\n",
    "import pandas as pd\n",
    "import numpy as np\n",
    "import matplotlib.pyplot as plt\n",
    "plt.plot([i for i in range(1,n+1)],list1,'b.-')\n",
    "plt.xlabel=('i')\n",
    "plt.ylabel=('fib(i)')\n",
    "plt.title=('Fibonacci Sequence')\n",
    "plt.legend()\n",
    "plt.show()\n",
    "\n",
    "# graph labels to be resolved"
   ]
  },
  {
   "cell_type": "markdown",
   "id": "28938ac1",
   "metadata": {},
   "source": [
    "### 4.List Manipulation"
   ]
  },
  {
   "cell_type": "code",
   "execution_count": 7,
   "id": "68660077",
   "metadata": {},
   "outputs": [
    {
     "name": "stdout",
     "output_type": "stream",
     "text": [
      "[13, 11, 9, 6, 5, 3]\n",
      "mean is 7.833333333333333\n",
      "median is 7.5\n"
     ]
    }
   ],
   "source": [
    "list1=[3,5,7,9,11,13]\n",
    "list1.insert(3,6)\n",
    "list1.remove(7)\n",
    "list1=list1[::-1]\n",
    "\n",
    "sum=0\n",
    "count=0\n",
    "for i in list1:\n",
    "    sum+=i\n",
    "    count+=1\n",
    "mean=sum/count\n",
    "median=(list1[count//2-1]+list1[count//2])/2\n",
    "\n",
    "print(list1)\n",
    "print(f\"mean is {mean}\\nmedian is {median}\")\n"
   ]
  },
  {
   "cell_type": "markdown",
   "id": "472508b1",
   "metadata": {},
   "source": [
    "### 5.User Input and Basic Statistics"
   ]
  },
  {
   "cell_type": "code",
   "execution_count": null,
   "id": "f20954db",
   "metadata": {},
   "outputs": [],
   "source": [
    "data=map(int,input().split(\",\"))"
   ]
  },
  {
   "cell_type": "code",
   "execution_count": 16,
   "id": "da6f51c7",
   "metadata": {},
   "outputs": [],
   "source": [
    "data=map(int,input().split(\",\"))\n",
    "sum=0\n",
    "count=0\n",
    "for element in data:\n",
    "    sum+=element\n",
    "    count+=1\n",
    "mean=sum/count"
   ]
  },
  {
   "cell_type": "code",
   "execution_count": 1,
   "id": "30e4dbe5",
   "metadata": {},
   "outputs": [
    {
     "name": "stdout",
     "output_type": "stream",
     "text": [
      "largest number is 8\n",
      "smallest number is 2\n"
     ]
    }
   ],
   "source": [
    "data=list(map(int,input().split(\",\")))\n",
    "largest_number=max(data)\n",
    "smallest_number=min(data)\n",
    "\n",
    "print(f\"largest number is {largest_number}\\nsmallest number is {smallest_number}\")"
   ]
  },
  {
   "cell_type": "code",
   "execution_count": 4,
   "id": "da6270b7",
   "metadata": {},
   "outputs": [
    {
     "data": {
      "image/png": "[encoded data removed]",
      "text/plain": [
       "<Figure size 640x480 with 1 Axes>"
      ]
     },
     "metadata": {},
     "output_type": "display_data"
    }
   ],
   "source": [
    "data=list(map(int,input().split(\",\")))\n",
    "\n",
    "import matplotlib.pyplot as plt\n",
    "plt.hist(data)\n",
    "plt.show()"
   ]
  },
  {
   "cell_type": "markdown",
   "id": "6bed04da",
   "metadata": {},
   "source": [
    "### 6.Palindrome Check"
   ]
  },
  {
   "cell_type": "code",
   "execution_count": 10,
   "id": "554b50f0",
   "metadata": {},
   "outputs": [
    {
     "name": "stdout",
     "output_type": "stream",
     "text": [
      "True\n"
     ]
    }
   ],
   "source": [
    "string=input()\n",
    "new_string=string.lower()\n",
    "new_string=new_string.replace(\" \",\"\")\n",
    "string_to_check=new_string[::-1]\n",
    "\n",
    "if new_string==string_to_check:\n",
    "    print(True)\n",
    "else:\n",
    "    print(False)"
   ]
  },
  {
   "cell_type": "markdown",
   "id": "47859f20",
   "metadata": {},
   "source": [
    "### 7.Dictionary Options"
   ]
  },
  {
   "cell_type": "code",
   "execution_count": null,
   "id": "b2fb7cd7",
   "metadata": {},
   "outputs": [],
   "source": [
    "dict1={ \"Dio\":92 ,\"Ryu\":87 ,\"Ryan\":50 ,\"Gon\":76 }"
   ]
  },
  {
   "cell_type": "code",
   "execution_count": 17,
   "id": "6405c638",
   "metadata": {},
   "outputs": [
    {
     "name": "stdout",
     "output_type": "stream",
     "text": [
      "76.25\n"
     ]
    }
   ],
   "source": [
    "dict1={ \"Dio\":int(92) ,\"Ryu\": int(87) ,\"Ryan\": int(50) ,\"Gon\": int(76) }\n",
    "marks=int(0)\n",
    "count=0\n",
    "for element in dict1:\n",
    "    marks+= dict1[element]\n",
    "    count+=1\n",
    "average_marks=marks/count\n",
    "print(average_marks)"
   ]
  },
  {
   "cell_type": "code",
   "execution_count": 19,
   "id": "29bd1d44",
   "metadata": {},
   "outputs": [
    {
     "name": "stdout",
     "output_type": "stream",
     "text": [
      "Dio\n",
      "Ryu\n"
     ]
    }
   ],
   "source": [
    "dict1={ \"Dio\":int(92) ,\"Ryu\": int(87) ,\"Ryan\": int(50) ,\"Gon\": int(76) }\n",
    "marks=int(0)\n",
    "count=0\n",
    "for element in dict1:\n",
    "    marks+= dict1[element]\n",
    "    count+=1\n",
    "average_marks=marks/count\n",
    "\n",
    "for element in dict1:\n",
    "    if dict1[element]>average_marks:\n",
    "        print(element)"
   ]
  },
  {
   "cell_type": "code",
   "execution_count": 22,
   "id": "a76d15d8",
   "metadata": {},
   "outputs": [
    {
     "data": {
      "image/png": "[encoded data removed]",
      "text/plain": [
       "<Figure size 640x480 with 1 Axes>"
      ]
     },
     "metadata": {},
     "output_type": "display_data"
    }
   ],
   "source": [
    "import matplotlib.pyplot as plt\n",
    "dict1={ \"Dio\":int(92) ,\"Ryu\": int(87) ,\"Ryan\": int(50) ,\"Gon\": int(76) }\n",
    "\n",
    "names = list(dict1.keys())\n",
    "marks = list(dict1.values())\n",
    "\n",
    "plt.bar(names,marks)\n",
    "plt.xlabel(\"Names\")\n",
    "plt.ylabel(\"Marks\")\n",
    "plt.title(\"Distribution of Marks\")\n",
    "plt.show()"
   ]
  },
  {
   "cell_type": "markdown",
   "id": "7312c151",
   "metadata": {},
   "source": [
    "### 8.Tuple List Creation"
   ]
  },
  {
   "cell_type": "code",
   "execution_count": 23,
   "id": "c22a7672",
   "metadata": {},
   "outputs": [
    {
     "name": "stdout",
     "output_type": "stream",
     "text": [
      "[(1, 1), (2, 4), (3, 9), (4, 16), (5, 25), (6, 36), (7, 49), (8, 64), (9, 81), (10, 100)]\n"
     ]
    }
   ],
   "source": [
    "list1=[]\n",
    "for i in range(1,11):\n",
    "    list1.append((i,i*i))\n",
    "print(list1)"
   ]
  },
  {
   "cell_type": "code",
   "execution_count": 24,
   "id": "5cbdd2a7",
   "metadata": {},
   "outputs": [
    {
     "data": {
      "image/png": "[encoded data removed]",
      "text/plain": [
       "<Figure size 640x480 with 1 Axes>"
      ]
     },
     "metadata": {},
     "output_type": "display_data"
    }
   ],
   "source": [
    "import matplotlib.pyplot as plt\n",
    "\n",
    "x_list=[]\n",
    "y_list=[]\n",
    "\n",
    "for i in range(1,11):\n",
    "    x_list.append(i)\n",
    "    y_list.append(i*i)\n",
    "\n",
    "plt.scatter(x_list,y_list)\n",
    "plt.show()"
   ]
  },
  {
   "cell_type": "markdown",
   "id": "19c814b0",
   "metadata": {},
   "source": [
    "### 9.Merging Dictionaries"
   ]
  },
  {
   "cell_type": "code",
   "execution_count": 27,
   "id": "4646aa84",
   "metadata": {},
   "outputs": [
    {
     "name": "stdout",
     "output_type": "stream",
     "text": [
      "{'a': 10, 'b': 25, 'c': 15}\n"
     ]
    }
   ],
   "source": [
    "dict1 = {'a': 10, 'b': 20}\n",
    "dict2 = {'b': 5, 'c': 15}\n",
    "\n",
    "for key in dict2:\n",
    "    if key in dict1:\n",
    "        dict1[key]+=dict2[key]\n",
    "    else:\n",
    "       dict1[key]=dict2[key]\n",
    "\n",
    "print(dict1)"
   ]
  },
  {
   "cell_type": "markdown",
   "id": "1fb5aed2",
   "metadata": {},
   "source": [
    "### 10.Character Frequency"
   ]
  },
  {
   "cell_type": "code",
   "execution_count": 29,
   "id": "a075ed87",
   "metadata": {},
   "outputs": [
    {
     "name": "stdout",
     "output_type": "stream",
     "text": [
      "{'a': 5, 'p': 2, 'l': 1, 'e': 1, ' ': 1, 'b': 1, 'n': 2}\n"
     ]
    }
   ],
   "source": [
    "string = input()\n",
    "string.lower()\n",
    "\n",
    "frequency = {}\n",
    "for char in string:\n",
    "    if char != ' ':  \n",
    "        frequency[char] = frequency.get(char, 0) + 1\n",
    "\n",
    "print(frequency)"
   ]
  },
  {
   "cell_type": "code",
   "execution_count": 1,
   "id": "6f3a56a9",
   "metadata": {},
   "outputs": [
    {
     "data": {
      "image/png": "[encoded data removed]",
      "text/plain": [
       "<Figure size 640x480 with 1 Axes>"
      ]
     },
     "metadata": {},
     "output_type": "display_data"
    }
   ],
   "source": [
    "import matplotlib.pyplot as plt\n",
    "string = input()\n",
    "string = string.lower()\n",
    "\n",
    "frequency = {}\n",
    "for char in string:\n",
    "    if char != ' ':  \n",
    "        frequency[char] = frequency.get(char, 0) + 1\n",
    "\n",
    "chars = list(frequency.keys())\n",
    "freq = list(frequency.values())\n",
    "\n",
    "plt.bar(chars,freq)\n",
    "plt.xlabel(\"Characters\")\n",
    "plt.ylabel(\"Frequency\")\n",
    "plt.title(\"Character Frequency\")\n",
    "plt.show()"
   ]
  },
  {
   "cell_type": "markdown",
   "id": "a3c838ce",
   "metadata": {},
   "source": [
    "### 11.Remove Duplicates"
   ]
  },
  {
   "cell_type": "code",
   "execution_count": 2,
   "id": "1e5e65ee",
   "metadata": {},
   "outputs": [
    {
     "name": "stdout",
     "output_type": "stream",
     "text": [
      "List after removing duplicates: [1, 2, 3, 4, 5]\n"
     ]
    }
   ],
   "source": [
    "def remove_duplicates(input_list):\n",
    "    seen=set()\n",
    "    result=[]\n",
    "\n",
    "    for element in input_list:\n",
    "        if element not in seen:\n",
    "            result.append(element)\n",
    "            seen.add(element)\n",
    "\n",
    "    return result\n",
    "\n",
    "input_list=[1,2,2,3,4,5,5,5,5,5]\n",
    "output_list= remove_duplicates(input_list)\n",
    "print(\"List after removing duplicates:\",output_list)"
   ]
  },
  {
   "cell_type": "code",
   "execution_count": 5,
   "id": "3b1333ab",
   "metadata": {},
   "outputs": [
    {
     "name": "stdout",
     "output_type": "stream",
     "text": [
      "mean is: 3.0\n",
      "median is: 3\n"
     ]
    }
   ],
   "source": [
    "def remove_duplicates(input_list):\n",
    "    seen=set()\n",
    "    result=[]\n",
    "\n",
    "    for element in input_list:\n",
    "        if element not in seen:\n",
    "            result.append(element)\n",
    "            seen.add(element)\n",
    "\n",
    "    return result\n",
    "\n",
    "input_list=[1,2,2,3,4,5,5,5,5,5]\n",
    "output_list= remove_duplicates(input_list)\n",
    "\n",
    "sum=0\n",
    "count=0\n",
    "for element in output_list:\n",
    "    sum+=element\n",
    "    count+=1\n",
    "\n",
    "mean=sum/count\n",
    "median=output_list[count//2]\n",
    "\n",
    "print(f\"mean is: {mean}\\nmedian is: {median}\")"
   ]
  },
  {
   "cell_type": "markdown",
   "id": "086e051f",
   "metadata": {},
   "source": [
    "### 12.String Operations"
   ]
  },
  {
   "cell_type": "code",
   "execution_count": 6,
   "id": "f20dc0bd",
   "metadata": {},
   "outputs": [
    {
     "ename": "_IncompleteInputError",
     "evalue": "incomplete input (3343153948.py, line 3)",
     "output_type": "error",
     "traceback": [
      "\u001b[1;36m  Cell \u001b[1;32mIn[6], line 3\u001b[1;36m\u001b[0m\n\u001b[1;33m    def list_of_string_functions():\u001b[0m\n\u001b[1;37m                                   ^\u001b[0m\n\u001b[1;31m_IncompleteInputError\u001b[0m\u001b[1;31m:\u001b[0m incomplete input\n"
     ]
    }
   ],
   "source": [
    "import matplotlib.pyplot as plt\n",
    "list1=[\"abc\",\"you\",\"duo\",\"ray\"]\n",
    "\n",
    "def list_of_string_functions(list):\n",
    "    for element in list:"
   ]
  },
  {
   "cell_type": "code",
   "execution_count": null,
   "id": "3dd8a6d1",
   "metadata": {},
   "outputs": [],
   "source": []
  }
 ],
 "metadata": {
  "kernelspec": {
   "display_name": "Python 3",
   "language": "python",
   "name": "python3"
  },
  "language_info": {
   "codemirror_mode": {
    "name": "ipython",
    "version": 3
   },
   "file_extension": ".py",
   "mimetype": "text/x-python",
   "name": "python",
   "nbconvert_exporter": "python",
   "pygments_lexer": "ipython3",
   "version": "3.13.1"
  }
 },
 "nbformat": 4,
 "nbformat_minor": 5
}
