{
 "cells": [
  {
   "cell_type": "markdown",
   "id": "16d8eb56",
   "metadata": {},
   "source": [
    "### 1.List Operations and Basic Statistics"
   ]
  },
  {
   "cell_type": "code",
   "execution_count": 1,
   "id": "d88648a6",
   "metadata": {},
   "outputs": [
    {
     "name": "stdout",
     "output_type": "stream",
     "text": [
      "[1, 2, 3, 4, 5, 6, 7, 8, 9, 10, 11, 12, 13, 14, 15, 16, 17, 18, 19, 20]\n"
     ]
    }
   ],
   "source": [
    "list1=[]\n",
    "for i in range(1,21):\n",
    "    list1.append(i)\n",
    "print(list1)"
   ]
  },
  {
   "cell_type": "code",
   "execution_count": 2,
   "id": "8f7ab018",
   "metadata": {},
   "outputs": [
    {
     "name": "stdout",
     "output_type": "stream",
     "text": [
      "110\n"
     ]
    }
   ],
   "source": [
    "sum=0\n",
    "for element in list1:\n",
    "    if element%2==0:\n",
    "        sum+=element\n",
    "print(sum)"
   ]
  },
  {
   "cell_type": "code",
   "execution_count": 3,
   "id": "6a0c7a7c",
   "metadata": {},
   "outputs": [
    {
     "name": "stdout",
     "output_type": "stream",
     "text": [
      "654729075\n"
     ]
    }
   ],
   "source": [
    "product=1\n",
    "for element in list1:\n",
    "    if element%2==1:\n",
    "        product*=element\n",
    "print(product)"
   ]
  },
  {
   "cell_type": "code",
   "execution_count": 4,
   "id": "7e04f646",
   "metadata": {},
   "outputs": [
    {
     "name": "stdout",
     "output_type": "stream",
     "text": [
      "10.5\n",
      "10.5\n",
      "5.916079783099616\n"
     ]
    }
   ],
   "source": [
    "sum=0\n",
    "count=0\n",
    "for i in range(0,20):\n",
    "    sum+=list1[i]\n",
    "    count+=1\n",
    "mean=float(sum/count)\n",
    "print(mean)\n",
    "#  as there are 20(even) terms,\n",
    "#  we have to take the average of the middle terms\n",
    "#  to get median\n",
    "median=(list1[count//2-1]+list1[count//2])/2\n",
    "print(median)\n",
    "\n",
    "ssd=0\n",
    "for x in list1:\n",
    "    ssd+=(x-mean)**2\n",
    "standard_deviation = (ssd/(count-1))**0.5\n",
    "print(standard_deviation)"
   ]
  },
  {
   "cell_type": "markdown",
   "id": "1880b558",
   "metadata": {},
   "source": [
    "### 2.Mutable vs Immutable Data Types"
   ]
  },
  {
   "cell_type": "markdown",
   "id": "f69b7f4a",
   "metadata": {},
   "source": [
    "Immutable data types are the data types which once created cannot be edited further via any means i.e you cannot delete or change the existing stuff however we can add more stuff in it. For example, strings.\n",
    "\n",
    "Mutable data types are the data types in which the data can be edited and changed after creation. For example, lists and dictionaries."
   ]
  },
  {
   "cell_type": "markdown",
   "id": "dc6f06fd",
   "metadata": {},
   "source": [
    "### 3.Fibonacci Sequence"
   ]
  },
  {
   "cell_type": "code",
   "execution_count": 5,
   "id": "6be91296",
   "metadata": {},
   "outputs": [
    {
     "name": "stdout",
     "output_type": "stream",
     "text": [
      "[1, 1, 2, 3, 5, 8, 13, 21, 34, 55]\n"
     ]
    }
   ],
   "source": [
    "def fibonacci(n):\n",
    "    if(n==2 or n==1):\n",
    "        return 1\n",
    "    return fibonacci(n-1)+fibonacci(n-2)\n",
    "\n",
    "# n=int(input(\"enter number here: \"))\n",
    "n=10\n",
    "# for testing (as jupyter was not taking input)\n",
    "\n",
    "list1=[]\n",
    "for i in range(1,n+1):\n",
    "    list1.append(fibonacci(i))\n",
    "\n",
    "print(list1)"
   ]
  },
  {
   "cell_type": "code",
   "execution_count": 6,
   "id": "b817a098",
   "metadata": {},
   "outputs": [
    {
     "data": {
      "image/png": "[encoded data removed]",
      "text/plain": [
       "<Figure size 640x480 with 1 Axes>"
      ]
     },
     "metadata": {},
     "output_type": "display_data"
    }
   ],
   "source": [
    "import matplotlib.pyplot as plt\n",
    "def fibonacci(n):\n",
    "    if(n==2 or n==1):\n",
    "        return 1\n",
    "    return fibonacci(n-1)+fibonacci(n-2)\n",
    "\n",
    "n=int(input(\"enter number here: \"))\n",
    "\n",
    "list1=[]\n",
    "for i in range(1,n+1):\n",
    "    list1.append(fibonacci(i))\n",
    "\n",
    "plt.plot([i for i in range(1,n+1)],list1,'b.-')\n",
    "plt.show()"
   ]
  },
  {
   "cell_type": "markdown",
   "id": "28938ac1",
   "metadata": {},
   "source": [
    "### 4.List Manipulation"
   ]
  },
  {
   "cell_type": "code",
   "execution_count": 7,
   "id": "68660077",
   "metadata": {},
   "outputs": [
    {
     "name": "stdout",
     "output_type": "stream",
     "text": [
      "[13, 11, 9, 6, 5, 3]\n",
      "mean is 7.833333333333333\n",
      "median is 7.5\n"
     ]
    }
   ],
   "source": [
    "list1=[3,5,7,9,11,13]\n",
    "list1.insert(3,6)\n",
    "list1.remove(7)\n",
    "list1=list1[::-1]\n",
    "\n",
    "sum=0\n",
    "count=0\n",
    "for i in list1:\n",
    "    sum+=i\n",
    "    count+=1\n",
    "mean=sum/count\n",
    "median=(list1[count//2-1]+list1[count//2])/2\n",
    "\n",
    "print(list1)\n",
    "print(f\"mean is {mean}\\nmedian is {median}\")\n"
   ]
  },
  {
   "cell_type": "markdown",
   "id": "472508b1",
   "metadata": {},
   "source": [
    "### 5.User Input and Basic Statistics"
   ]
  },
  {
   "cell_type": "code",
   "execution_count": 8,
   "id": "f20954db",
   "metadata": {},
   "outputs": [],
   "source": [
    "data=map(int,input().split(\",\"))"
   ]
  },
  {
   "cell_type": "code",
   "execution_count": 9,
   "id": "da6f51c7",
   "metadata": {},
   "outputs": [],
   "source": [
    "data=map(int,input().split(\",\"))\n",
    "sum=0\n",
    "count=0\n",
    "for element in data:\n",
    "    sum+=element\n",
    "    count+=1\n",
    "mean=sum/count"
   ]
  },
  {
   "cell_type": "code",
   "execution_count": 10,
   "id": "30e4dbe5",
   "metadata": {},
   "outputs": [
    {
     "name": "stdout",
     "output_type": "stream",
     "text": [
      "largest number is 40\n",
      "smallest number is 10\n"
     ]
    }
   ],
   "source": [
    "data=list(map(int,input().split(\",\")))\n",
    "largest_number=max(data)\n",
    "smallest_number=min(data)\n",
    "\n",
    "print(f\"largest number is {largest_number}\\nsmallest number is {smallest_number}\")"
   ]
  },
  {
   "cell_type": "code",
   "execution_count": 11,
   "id": "da6270b7",
   "metadata": {},
   "outputs": [
    {
     "data": {
      "image/png": "[encoded data removed]",
      "text/plain": [
       "<Figure size 640x480 with 1 Axes>"
      ]
     },
     "metadata": {},
     "output_type": "display_data"
    }
   ],
   "source": [
    "data=list(map(int,input().split(\",\")))\n",
    "\n",
    "import matplotlib.pyplot as plt\n",
    "plt.hist(data)\n",
    "plt.show()"
   ]
  },
  {
   "cell_type": "markdown",
   "id": "6bed04da",
   "metadata": {},
   "source": [
    "### 6.Palindrome Check"
   ]
  },
  {
   "cell_type": "code",
   "execution_count": 12,
   "id": "554b50f0",
   "metadata": {},
   "outputs": [
    {
     "name": "stdout",
     "output_type": "stream",
     "text": [
      "True\n"
     ]
    }
   ],
   "source": [
    "string=input()\n",
    "new_string=string.lower()\n",
    "new_string=new_string.replace(\" \",\"\")\n",
    "string_to_check=new_string[::-1]\n",
    "\n",
    "if new_string==string_to_check:\n",
    "    print(True)\n",
    "else:\n",
    "    print(False)"
   ]
  },
  {
   "cell_type": "markdown",
   "id": "47859f20",
   "metadata": {},
   "source": [
    "### 7.Dictionary Options"
   ]
  },
  {
   "cell_type": "code",
   "execution_count": 13,
   "id": "b2fb7cd7",
   "metadata": {},
   "outputs": [],
   "source": [
    "dict1={ \"Dio\":92 ,\"Ryu\":87 ,\"Ryan\":50 ,\"Gon\":76 }"
   ]
  },
  {
   "cell_type": "code",
   "execution_count": 14,
   "id": "6405c638",
   "metadata": {},
   "outputs": [
    {
     "name": "stdout",
     "output_type": "stream",
     "text": [
      "76.25\n"
     ]
    }
   ],
   "source": [
    "dict1={ \"Dio\":int(92) ,\"Ryu\": int(87) ,\"Ryan\": int(50) ,\"Gon\": int(76) }\n",
    "marks=int(0)\n",
    "count=0\n",
    "for element in dict1:\n",
    "    marks+= dict1[element]\n",
    "    count+=1\n",
    "average_marks=marks/count\n",
    "print(average_marks)"
   ]
  },
  {
   "cell_type": "code",
   "execution_count": 15,
   "id": "29bd1d44",
   "metadata": {},
   "outputs": [
    {
     "name": "stdout",
     "output_type": "stream",
     "text": [
      "Dio\n",
      "Ryu\n"
     ]
    }
   ],
   "source": [
    "dict1={ \"Dio\":int(92) ,\"Ryu\": int(87) ,\"Ryan\": int(50) ,\"Gon\": int(76) }\n",
    "marks=int(0)\n",
    "count=0\n",
    "for element in dict1:\n",
    "    marks+= dict1[element]\n",
    "    count+=1\n",
    "average_marks=marks/count\n",
    "\n",
    "for element in dict1:\n",
    "    if dict1[element]>average_marks:\n",
    "        print(element)"
   ]
  },
  {
   "cell_type": "code",
   "execution_count": 16,
   "id": "a76d15d8",
   "metadata": {},
   "outputs": [
    {
     "data": {
      "image/png": "[encoded data removed]",
      "text/plain": [
       "<Figure size 640x480 with 1 Axes>"
      ]
     },
     "metadata": {},
     "output_type": "display_data"
    }
   ],
   "source": [
    "import matplotlib.pyplot as plt\n",
    "dict1={ \"Dio\":int(92) ,\"Ryu\": int(87) ,\"Ryan\": int(50) ,\"Gon\": int(76) }\n",
    "\n",
    "names = list(dict1.keys())\n",
    "marks = list(dict1.values())\n",
    "\n",
    "plt.bar(names,marks)\n",
    "plt.show()"
   ]
  },
  {
   "cell_type": "markdown",
   "id": "7312c151",
   "metadata": {},
   "source": [
    "### 8.Tuple List Creation"
   ]
  },
  {
   "cell_type": "code",
   "execution_count": 17,
   "id": "c22a7672",
   "metadata": {},
   "outputs": [
    {
     "name": "stdout",
     "output_type": "stream",
     "text": [
      "[(1, 1), (2, 4), (3, 9), (4, 16), (5, 25), (6, 36), (7, 49), (8, 64), (9, 81), (10, 100)]\n"
     ]
    }
   ],
   "source": [
    "list1=[]\n",
    "for i in range(1,11):\n",
    "    list1.append((i,i*i))\n",
    "print(list1)"
   ]
  },
  {
   "cell_type": "code",
   "execution_count": 18,
   "id": "5cbdd2a7",
   "metadata": {},
   "outputs": [
    {
     "data": {
      "image/png": "[encoded data removed]",
      "text/plain": [
       "<Figure size 640x480 with 1 Axes>"
      ]
     },
     "metadata": {},
     "output_type": "display_data"
    }
   ],
   "source": [
    "import matplotlib.pyplot as plt\n",
    "\n",
    "x_list=[]\n",
    "y_list=[]\n",
    "\n",
    "for i in range(1,11):\n",
    "    x_list.append(i)\n",
    "    y_list.append(i*i)\n",
    "\n",
    "plt.scatter(x_list,y_list)\n",
    "plt.show()"
   ]
  },
  {
   "cell_type": "markdown",
   "id": "19c814b0",
   "metadata": {},
   "source": [
    "### 9.Merging Dictionaries"
   ]
  },
  {
   "cell_type": "code",
   "execution_count": 19,
   "id": "4646aa84",
   "metadata": {},
   "outputs": [
    {
     "name": "stdout",
     "output_type": "stream",
     "text": [
      "{'a': 10, 'b': 25, 'c': 15}\n"
     ]
    }
   ],
   "source": [
    "dict1 = {'a': 10, 'b': 20}\n",
    "dict2 = {'b': 5, 'c': 15}\n",
    "\n",
    "for key in dict2:\n",
    "    if key in dict1:\n",
    "        dict1[key]+=dict2[key]\n",
    "    else:\n",
    "       dict1[key]=dict2[key]\n",
    "\n",
    "print(dict1)"
   ]
  },
  {
   "cell_type": "markdown",
   "id": "1fb5aed2",
   "metadata": {},
   "source": [
    "### 10.Character Frequency"
   ]
  },
  {
   "cell_type": "code",
   "execution_count": 20,
   "id": "a075ed87",
   "metadata": {},
   "outputs": [
    {
     "name": "stdout",
     "output_type": "stream",
     "text": [
      "{'a': 6, 'p': 2, 'l': 1, 'e': 1, 'b': 1, 'n': 2, 'g': 1, 'u': 1, 'v': 1}\n"
     ]
    }
   ],
   "source": [
    "string = input()\n",
    "string.lower()\n",
    "\n",
    "frequency = {}\n",
    "for char in string:\n",
    "    if char != ' ':  \n",
    "        frequency[char] = frequency.get(char, 0) + 1\n",
    "\n",
    "print(frequency)"
   ]
  },
  {
   "cell_type": "code",
   "execution_count": 21,
   "id": "6f3a56a9",
   "metadata": {},
   "outputs": [
    {
     "data": {
      "image/png": "[encoded data removed]",
      "text/plain": [
       "<Figure size 640x480 with 1 Axes>"
      ]
     },
     "metadata": {},
     "output_type": "display_data"
    }
   ],
   "source": [
    "import matplotlib.pyplot as plt\n",
    "string = input()\n",
    "string = string.lower()\n",
    "\n",
    "frequency = {}\n",
    "for char in string:\n",
    "    if char != ' ':  \n",
    "        frequency[char] = frequency.get(char, 0) + 1\n",
    "\n",
    "chars = list(frequency.keys())\n",
    "freq = list(frequency.values())\n",
    "\n",
    "plt.bar(chars,freq)\n",
    "plt.xlabel(\"Characters\")\n",
    "plt.ylabel(\"Frequency\")\n",
    "plt.title(\"Character Frequency\")\n",
    "plt.show()"
   ]
  },
  {
   "cell_type": "markdown",
   "id": "a3c838ce",
   "metadata": {},
   "source": [
    "### 11.Remove Duplicates"
   ]
  },
  {
   "cell_type": "code",
   "execution_count": 22,
   "id": "1e5e65ee",
   "metadata": {},
   "outputs": [
    {
     "name": "stdout",
     "output_type": "stream",
     "text": [
      "List after removing duplicates: [1, 2, 3, 4, 5]\n"
     ]
    }
   ],
   "source": [
    "def remove_duplicates(input_list):\n",
    "    seen=set()\n",
    "    result=[]\n",
    "\n",
    "    for element in input_list:\n",
    "        if element not in seen:\n",
    "            result.append(element)\n",
    "            seen.add(element)\n",
    "\n",
    "    return result\n",
    "\n",
    "input_list=[1,2,2,3,4,5,5,5,5,5]\n",
    "output_list= remove_duplicates(input_list)\n",
    "print(\"List after removing duplicates:\",output_list)"
   ]
  },
  {
   "cell_type": "code",
   "execution_count": 23,
   "id": "3b1333ab",
   "metadata": {},
   "outputs": [
    {
     "name": "stdout",
     "output_type": "stream",
     "text": [
      "mean is: 3.0\n",
      "median is: 3\n"
     ]
    }
   ],
   "source": [
    "def remove_duplicates(input_list):\n",
    "    seen=set()\n",
    "    result=[]\n",
    "\n",
    "    for element in input_list:\n",
    "        if element not in seen:\n",
    "            result.append(element)\n",
    "            seen.add(element)\n",
    "\n",
    "    return result\n",
    "\n",
    "input_list=[1,2,2,3,4,5,5,5,5,5]\n",
    "output_list= remove_duplicates(input_list)\n",
    "\n",
    "sum=0\n",
    "count=0\n",
    "for element in output_list:\n",
    "    sum+=element\n",
    "    count+=1\n",
    "\n",
    "mean=sum/count\n",
    "median=output_list[count//2]\n",
    "\n",
    "print(f\"mean is: {mean}\\nmedian is: {median}\")"
   ]
  },
  {
   "cell_type": "markdown",
   "id": "086e051f",
   "metadata": {},
   "source": [
    "### 12.String Operations"
   ]
  },
  {
   "cell_type": "code",
   "execution_count": 24,
   "id": "f20dc0bd",
   "metadata": {},
   "outputs": [
    {
     "name": "stdout",
     "output_type": "stream",
     "text": [
      "abc\n",
      "0\n"
     ]
    },
    {
     "data": {
      "image/png": "[encoded data removed]",
      "text/plain": [
       "<Figure size 640x480 with 1 Axes>"
      ]
     },
     "metadata": {},
     "output_type": "display_data"
    }
   ],
   "source": [
    "import matplotlib.pyplot as plt\n",
    "list1=[\"abc\",\"you\",\"duo\",\"ray\"]\n",
    "\n",
    "def list_of_string_functions(list):\n",
    "    count = 0\n",
    "    lenArr = []\n",
    "    for string in list:\n",
    "        lenArr.append(len(string))\n",
    "    if string.startswith(('A','E','I','O','U','a','e','i','o','u')):\n",
    "        count += 1\n",
    "    maxLengthIndex = lenArr.index(max(lenArr))\n",
    "    print(list[maxLengthIndex])\n",
    "    print(count)\n",
    "    plt.hist(lenArr)\n",
    "    plt.show()\n",
    "\n",
    "list_of_string_functions(list1)"
   ]
  },
  {
   "cell_type": "markdown",
   "id": "75375a97",
   "metadata": {},
   "source": [
    "### 13.Sorting Dictionaries"
   ]
  },
  {
   "cell_type": "code",
   "execution_count": 25,
   "id": "97f3a5ce",
   "metadata": {},
   "outputs": [
    {
     "name": "stdout",
     "output_type": "stream",
     "text": [
      "[{'name': 'Bob', 'age': 22}, {'name': 'Alice', 'age': 25}]\n"
     ]
    }
   ],
   "source": [
    "data = [{'name': 'Alice', 'age': 25}, {'name': 'Bob', 'age': 22}]\n",
    "print(sorted(data,key=lambda k:k['age']))"
   ]
  },
  {
   "cell_type": "markdown",
   "id": "0e73f51c",
   "metadata": {},
   "source": [
    "### 14.Word Filtering and Sorting"
   ]
  },
  {
   "cell_type": "code",
   "execution_count": 26,
   "id": "28f4405c",
   "metadata": {},
   "outputs": [],
   "source": [
    "input_string=list(input().split())"
   ]
  },
  {
   "cell_type": "code",
   "execution_count": 27,
   "id": "1ce3d54c",
   "metadata": {},
   "outputs": [],
   "source": [
    "input_string=list(input().split())\n",
    "for string in input_string:\n",
    "    if len(string)<4:\n",
    "        input_string.remove(string)"
   ]
  },
  {
   "cell_type": "code",
   "execution_count": 28,
   "id": "8e19bc7e",
   "metadata": {},
   "outputs": [
    {
     "name": "stdout",
     "output_type": "stream",
     "text": [
      "['Raijin', 'Raijin', 'Raijin', 'Raijin', 'Rinnoji', 'Sanjusangendo', 'Taiko', 'Taiyuin', 'a', 'cases,', 'create', 'depicted', 'drums', 'drums.', 'face', 'fierce,', 'figure', 'fingers', 'frightening', 'future.', 'gravity-defying', 'hair.', 'hammers', 'hands', 'his', 'holds', 'is', 'large', 'located', 'most', 'muscular', 'notable', 'of', 'often', 'past,', 'play', 'plays', 'portrayed', 'present', 'represent', 'said', 'sculptures', 'some', 'sound', 'surrounded', 'temple', 'temple.', 'that', 'that', 'the', 'the', 'three', 'thunder.', 'uses', 'which', 'with', 'with', 'with']\n"
     ]
    }
   ],
   "source": [
    "input_string=list(input().split())\n",
    "for string in input_string:\n",
    "    if len(string)<4:\n",
    "        input_string.remove(string)\n",
    "input_string.sort()\n",
    "print(input_string)"
   ]
  },
  {
   "cell_type": "code",
   "execution_count": 29,
   "id": "b5bbd631",
   "metadata": {},
   "outputs": [
    {
     "data": {
      "image/png": "[encoded data removed]",
      "text/plain": [
       "<Figure size 640x480 with 1 Axes>"
      ]
     },
     "metadata": {},
     "output_type": "display_data"
    }
   ],
   "source": [
    "input_string=list(input().split())\n",
    "for string in input_string:\n",
    "    if len(string)<4:\n",
    "        input_string.remove(string)\n",
    "input_string.sort()\n",
    "\n",
    "import matplotlib.pyplot as plt\n",
    "plt.bar(input_string,[len(word) for word in input_string])\n",
    "plt.show()"
   ]
  },
  {
   "cell_type": "markdown",
   "id": "b0eb7083",
   "metadata": {},
   "source": [
    "### 15.Anagram Finder"
   ]
  },
  {
   "cell_type": "code",
   "execution_count": 30,
   "id": "71e48024",
   "metadata": {},
   "outputs": [
    {
     "name": "stdout",
     "output_type": "stream",
     "text": [
      "['enlist', 'inlets']\n"
     ]
    }
   ],
   "source": [
    "word = \"listen\"\n",
    "words=[\"enlist\",\"google\",\"inlets\",\"banana\"]\n",
    "sorted_word=sorted(word)\n",
    "output=[]\n",
    "\n",
    "for word in words:\n",
    "    if sorted_word==sorted(word):\n",
    "        output.append(word)\n",
    "print(output)"
   ]
  },
  {
   "cell_type": "markdown",
   "id": "f155834a",
   "metadata": {},
   "source": [
    "### 16.Set Operations"
   ]
  },
  {
   "cell_type": "code",
   "execution_count": 31,
   "id": "906e57ae",
   "metadata": {},
   "outputs": [
    {
     "name": "stdout",
     "output_type": "stream",
     "text": [
      "{1}\n",
      "{1, 2, 3, 4, 5, 6, 7}\n",
      "{2, 3, 4, 5, 6, 7}\n"
     ]
    },
    {
     "data": {
      "image/png": "[encoded data removed]",
      "text/plain": [
       "<Figure size 640x480 with 1 Axes>"
      ]
     },
     "metadata": {},
     "output_type": "display_data"
    }
   ],
   "source": [
    "import matplotlib.pyplot as plt\n",
    "from matplotlib_venn import venn2\n",
    "\n",
    "def set_operations(set1,set2):\n",
    "    set1=set(set1)\n",
    "    set2=set(set2)\n",
    "\n",
    "    intersection=set1&set2\n",
    "    union=set1|set2\n",
    "    symmetric_difference=set1^set2\n",
    "\n",
    "    print(f\"{intersection}\\n{union}\\n{symmetric_difference}\")\n",
    "\n",
    "    return intersection, union, symmetric_difference\n",
    "\n",
    "set1={1,2,4,5,7}\n",
    "set2={1,3,6}\n",
    "set_operations(set1,set2)\n",
    "\n",
    "set1=set(set1)\n",
    "set2=set(set2)\n",
    "venn2([set1,set2],('Set 1','Set 2'))\n",
    "plt.show()\n"
   ]
  },
  {
   "cell_type": "markdown",
   "id": "80924279",
   "metadata": {},
   "source": [
    "### 17.File Operations"
   ]
  },
  {
   "cell_type": "code",
   "execution_count": 32,
   "id": "6f56f6ed",
   "metadata": {},
   "outputs": [
    {
     "name": "stdout",
     "output_type": "stream",
     "text": [
      "161\n"
     ]
    }
   ],
   "source": [
    "import numpy as np\n",
    "file=open(\"file_operations.txt\",\"w\")\n",
    "for number in np.arange(5,19):\n",
    "    file.write(f\"{number}\\n\")\n",
    "file.close()\n",
    "\n",
    "sum=0\n",
    "file=open('file_operations.txt','r')\n",
    "for line in file:\n",
    "    sum+=int(line.strip())\n",
    "print(sum)\n",
    "file.close()\n"
   ]
  },
  {
   "cell_type": "markdown",
   "id": "1a6db1c0",
   "metadata": {},
   "source": [
    "### 18.Word Count and Frequency"
   ]
  },
  {
   "cell_type": "code",
   "execution_count": 33,
   "id": "f1e1c58e",
   "metadata": {},
   "outputs": [
    {
     "name": "stdout",
     "output_type": "stream",
     "text": [
      "the 3\n"
     ]
    }
   ],
   "source": [
    "file_handle=open(\"words.txt\",\"r\")\n",
    "word_count={}\n",
    "for line in file_handle:\n",
    "    words=line.split()\n",
    "    for word in words:\n",
    "        word_count[word]=word_count.get(word,0)+1\n",
    "\n",
    "most_freq_word=None\n",
    "max_freq=0\n",
    "\n",
    "for word,frequency in word_count.items():\n",
    "    if frequency > max_freq:\n",
    "        max_freq = frequency\n",
    "        most_freq_word=word\n",
    "\n",
    "print(most_freq_word,frequency)\n"
   ]
  },
  {
   "cell_type": "code",
   "execution_count": 34,
   "id": "31cf72ab",
   "metadata": {},
   "outputs": [
    {
     "data": {
      "image/png": "[encoded data removed]",
      "text/plain": [
       "<Figure size 640x480 with 1 Axes>"
      ]
     },
     "metadata": {},
     "output_type": "display_data"
    }
   ],
   "source": [
    "import matplotlib.pyplot as plt\n",
    "\n",
    "file_handle=open(\"words.txt\",\"r\")\n",
    "word_count={}\n",
    "for line in file_handle:\n",
    "    words=line.split()\n",
    "    for word in words:\n",
    "        word_count[word]=word_count.get(word,0)+1\n",
    "\n",
    "most_freq_word=None\n",
    "max_freq=0\n",
    "\n",
    "for frequency in word_count.values():\n",
    "    if frequency > max_freq:\n",
    "        max_freq = frequency\n",
    "    for words in word_count:\n",
    "        if word_count[words]==frequency:\n",
    "            most_freq_word=words\n",
    "\n",
    "plt.bar(word_count.keys(),word_count.values())\n",
    "plt.title(\"Frequency of Words\")\n",
    "plt.xticks(rotation=90)\n",
    "plt.tight_layout()\n",
    "plt.show()"
   ]
  },
  {
   "cell_type": "markdown",
   "id": "abc94cdc",
   "metadata": {},
   "source": [
    "### 19.Random Number Generation"
   ]
  },
  {
   "cell_type": "code",
   "execution_count": 35,
   "id": "3d73f673",
   "metadata": {},
   "outputs": [
    {
     "name": "stdout",
     "output_type": "stream",
     "text": [
      "[40, 14, 8, 16, 29, 29, 32, 1, 1, 5, 18, 15, 33, 34, 23, 11, 27, 16, 7, 35, 14, 5, 42, 34, 35, 41, 26, 35, 35, 47, 37, 26, 27, 8, 6, 1, 22, 9, 36, 16, 45, 24, 13, 5, 27, 49, 28, 2, 43, 39, 10, 16, 42, 36, 41, 15, 4, 29, 26, 28, 32, 45, 12, 35, 18, 5, 14, 42, 33, 8, 46, 33, 20, 48, 6, 44, 45, 10, 39, 42, 28, 31, 15, 8, 25, 13, 11, 15, 14, 41, 30, 37, 8, 39, 5, 8, 8, 16, 15]\n"
     ]
    }
   ],
   "source": [
    "import numpy as np\n",
    "numbers=[] \n",
    "for i in range(1,100):\n",
    "    numbers.append(np.random.randint(1,50))\n",
    "print(numbers)\n"
   ]
  },
  {
   "cell_type": "code",
   "execution_count": 36,
   "id": "a4f4e7ce",
   "metadata": {},
   "outputs": [],
   "source": [
    "import numpy as np\n",
    "numbers=[] \n",
    "for i in range(1,101):\n",
    "    numbers.append(np.random.randint(1,50))\n",
    "file=open(\"numbers.txt\",\"w\")\n",
    "for number in numbers:\n",
    "    file.write(f\"{number}\\n\")"
   ]
  },
  {
   "cell_type": "code",
   "execution_count": 37,
   "id": "038a50c4",
   "metadata": {},
   "outputs": [
    {
     "data": {
      "image/png": "[encoded data removed]",
      "text/plain": [
       "<Figure size 640x480 with 1 Axes>"
      ]
     },
     "metadata": {},
     "output_type": "display_data"
    }
   ],
   "source": [
    "import numpy as np\n",
    "import matplotlib.pyplot as plt\n",
    "numbers=[] \n",
    "for i in range(1,101):\n",
    "    numbers.append(np.random.randint(1,50))\n",
    "file=open(\"numbers.txt\",\"w\")\n",
    "for number in numbers:\n",
    "    file.write(f\"{number}\\n\")\n",
    "file.close()\n",
    "\n",
    "number_read=[]\n",
    "file=open(\"numbers.txt\",\"r\")\n",
    "for line in file:\n",
    "    number_read.append(int(line.strip()))\n",
    "sum=0\n",
    "freq_of_numbers={}\n",
    "for num in number_read:\n",
    "    sum+=int(num)\n",
    "    if num not in freq_of_numbers:\n",
    "        freq_of_numbers[num]=1\n",
    "    else:\n",
    "        freq_of_numbers[num]+=1\n",
    "mean=sum/len(numbers)\n",
    "plt.hist(list(freq_of_numbers.keys()))\n",
    "plt.xlabel(\"Numbers\")\n",
    "plt.ylabel(\"Frequency\")\n",
    "plt.title(\"Number Frequencies\")\n",
    "plt.show()"
   ]
  },
  {
   "cell_type": "markdown",
   "id": "443d1b91",
   "metadata": {},
   "source": [
    "### 20.CSV File Operations"
   ]
  },
  {
   "cell_type": "code",
   "execution_count": 38,
   "id": "69c2036b",
   "metadata": {},
   "outputs": [
    {
     "name": "stdout",
     "output_type": "stream",
     "text": [
      "Column in CSV File: \n",
      "Index(['1', '11'], dtype='object')\n",
      "sum of values in column 1: 54\n"
     ]
    },
    {
     "data": {
      "image/png": "[encoded data removed]",
      "text/plain": [
       "<Figure size 640x480 with 1 Axes>"
      ]
     },
     "metadata": {},
     "output_type": "display_data"
    }
   ],
   "source": [
    "import pandas as pd\n",
    "import matplotlib.pyplot as plt\n",
    "\n",
    "csv_file='data.csv'\n",
    "data_file=pd.read_csv(csv_file)\n",
    "\n",
    "print(\"Column in CSV File: \")\n",
    "print(data_file.columns)\n",
    "\n",
    "column=input(\"enter column: \")\n",
    "\n",
    "total_sum=data_file[column].sum()\n",
    "print(f\"sum of values in column {column}: {total_sum}\")\n",
    "\n",
    "plt.plot(data_file[column])\n",
    "plt.show()"
   ]
  },
  {
   "cell_type": "markdown",
   "id": "77b67063",
   "metadata": {},
   "source": [
    "### 21.Basic Statistics"
   ]
  },
  {
   "cell_type": "code",
   "execution_count": 39,
   "id": "ade5a705",
   "metadata": {},
   "outputs": [
    {
     "name": "stdout",
     "output_type": "stream",
     "text": [
      "mean is 57.63636363636363\n",
      "median is 7\n",
      "standard deviations is 115.5562830202432\n"
     ]
    }
   ],
   "source": [
    "list_of_numbers=[1,3,6,2,6,7,345,2,5,34,223]\n",
    "sum=0\n",
    "for num in list_of_numbers:\n",
    "    sum+=num\n",
    "mean=sum/len(list_of_numbers)\n",
    "if len(list_of_numbers)%2==1:\n",
    "    median=list_of_numbers[len(list_of_numbers)//2]\n",
    "else:\n",
    "    median=(list_of_numbers[(len(list_of_numbers)//2)-1]+list_of_numbers[len(list_of_numbers)//2])/2\n",
    "ssd=0\n",
    "for x in list_of_numbers:\n",
    "    ssd+=(x-mean)**2\n",
    "standard_deviation = (ssd/(len(list_of_numbers)-1))**0.5\n",
    "print(f\"mean is {mean}\\nmedian is {median}\\nstandard deviations is {standard_deviation}\")\n"
   ]
  },
  {
   "cell_type": "markdown",
   "id": "a2f2b1ba",
   "metadata": {},
   "source": [
    "### 22.Normalization"
   ]
  },
  {
   "cell_type": "code",
   "execution_count": 40,
   "id": "13a5a3de",
   "metadata": {},
   "outputs": [
    {
     "data": {
      "image/png": "[encoded data removed]",
      "text/plain": [
       "<Figure size 640x480 with 1 Axes>"
      ]
     },
     "metadata": {},
     "output_type": "display_data"
    }
   ],
   "source": [
    "import matplotlib.pyplot as plt\n",
    "list1=[1,3,24,6,47,48,84,2,1818,126,15,6363,73,52]\n",
    "normalized_list=[]\n",
    "for num in list1:\n",
    "    normalized_list.append((num-min(list1))/(max(list1)-min(list1)))\n",
    "plt.plot(normalized_list)\n",
    "plt.show()"
   ]
  },
  {
   "cell_type": "markdown",
   "id": "daa04d3f",
   "metadata": {},
   "source": [
    "### 23.Even or Odd"
   ]
  },
  {
   "cell_type": "code",
   "execution_count": 41,
   "id": "00d5004f",
   "metadata": {},
   "outputs": [
    {
     "name": "stdout",
     "output_type": "stream",
     "text": [
      "number is odd\n"
     ]
    }
   ],
   "source": [
    "user_input=int(input())\n",
    "if user_input%2==1:\n",
    "    print(\"number is odd\")\n",
    "elif user_input%2==0:\n",
    "    print(\"number is even\")"
   ]
  },
  {
   "cell_type": "markdown",
   "id": "0f3784d7",
   "metadata": {},
   "source": [
    "### 24.Grade Calculator"
   ]
  },
  {
   "cell_type": "code",
   "execution_count": 42,
   "id": "61f3a1f5",
   "metadata": {},
   "outputs": [
    {
     "name": "stdout",
     "output_type": "stream",
     "text": [
      "A Grade\n"
     ]
    }
   ],
   "source": [
    "marks = int(input())\n",
    "if 80<=marks<=100:\n",
    "    print(\"A Grade\")\n",
    "elif 60<=marks<=79:\n",
    "    print(\"B Grade\")\n",
    "elif 40<=marks<=59:\n",
    "    print(\"C Grade\")\n",
    "elif 20<=marks<=39:\n",
    "    print(\"D Grade\")\n",
    "elif 0<=marks<=19:\n",
    "    print(\"F Grade\")"
   ]
  },
  {
   "cell_type": "markdown",
   "id": "79466a17",
   "metadata": {},
   "source": [
    "### 25.Leap Year Checker"
   ]
  },
  {
   "cell_type": "code",
   "execution_count": 43,
   "id": "4f2e74c7",
   "metadata": {},
   "outputs": [
    {
     "name": "stdout",
     "output_type": "stream",
     "text": [
      "2025 is not a leap year\n"
     ]
    }
   ],
   "source": [
    "year = int(input())\n",
    "if year % 4 == 0:\n",
    "    if year % 100 != 0:\n",
    "        print(f\"{year} is a leap year\")\n",
    "    else:\n",
    "        print(f\"{year} is not a leap year\")\n",
    "elif year % 400 == 0:\n",
    "    print(f\"{year} is a leap year\")\n",
    "else:\n",
    "    print(f\"{year} is not a leap year\")"
   ]
  }
 ],
 "metadata": {
  "kernelspec": {
   "display_name": "Python 3",
   "language": "python",
   "name": "python3"
  },
  "language_info": {
   "codemirror_mode": {
    "name": "ipython",
    "version": 3
   },
   "file_extension": ".py",
   "mimetype": "text/x-python",
   "name": "python",
   "nbconvert_exporter": "python",
   "pygments_lexer": "ipython3",
   "version": "3.13.1"
  }
 },
 "nbformat": 4,
 "nbformat_minor": 5
}
