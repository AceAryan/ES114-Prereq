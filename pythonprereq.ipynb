{
 "cells": [
  {
   "cell_type": "markdown",
   "id": "16d8eb56",
   "metadata": {},
   "source": [
    "### 1.List Operations and Basic Statistics"
   ]
  },
  {
   "cell_type": "code",
   "execution_count": 1,
   "id": "d88648a6",
   "metadata": {},
   "outputs": [
    {
     "name": "stdout",
     "output_type": "stream",
     "text": [
      "[1, 2, 3, 4, 5, 6, 7, 8, 9, 10, 11, 12, 13, 14, 15, 16, 17, 18, 19, 20]\n"
     ]
    }
   ],
   "source": [
    "list=[]\n",
    "for i in range(1,21):\n",
    "    list.append(i)\n",
    "print(list)"
   ]
  },
  {
   "cell_type": "code",
   "execution_count": 2,
   "id": "8f7ab018",
   "metadata": {},
   "outputs": [
    {
     "name": "stdout",
     "output_type": "stream",
     "text": [
      "110\n"
     ]
    }
   ],
   "source": [
    "sum=0\n",
    "for element in list:\n",
    "    if element%2==0:\n",
    "        sum+=element\n",
    "print(sum)\n"
   ]
  },
  {
   "cell_type": "code",
   "execution_count": 3,
   "id": "6a0c7a7c",
   "metadata": {},
   "outputs": [
    {
     "name": "stdout",
     "output_type": "stream",
     "text": [
      "654729075\n"
     ]
    }
   ],
   "source": [
    "product=1\n",
    "for element in list:\n",
    "    if element%2==1:\n",
    "        product*=element\n",
    "print(product)"
   ]
  },
  {
   "cell_type": "code",
   "execution_count": 4,
   "id": "7e04f646",
   "metadata": {},
   "outputs": [
    {
     "name": "stdout",
     "output_type": "stream",
     "text": [
      "10.5\n",
      "10.5\n",
      "5.916079783099616\n"
     ]
    }
   ],
   "source": [
    "sum=0\n",
    "count=0\n",
    "for i in range(0,20):\n",
    "    sum+=list[i]\n",
    "    count+=1\n",
    "mean=float(sum/count)\n",
    "print(mean)\n",
    "#  as there are 20(even) terms,\n",
    "#  we have to take the average of the middle terms\n",
    "#  to get median\n",
    "median=(list[count//2-1]+list[count//2])/2\n",
    "print(median)\n",
    "\n",
    "ssd=0\n",
    "for x in list:\n",
    "    ssd+=(x-mean)**2\n",
    "standard_deviation = (ssd/(count-1))**0.5\n",
    "print(standard_deviation)"
   ]
  },
  {
   "cell_type": "markdown",
   "id": "1880b558",
   "metadata": {},
   "source": [
    "### 2.Mutable vs Immutable Data Types"
   ]
  },
  {
   "cell_type": "markdown",
   "id": "f69b7f4a",
   "metadata": {},
   "source": [
    "Mutable data types are the data types which once created cannot be edited further via any means i.e you cannot delete or change the existing stuff however we can add more stuff in it. For example, strings.\n",
    "\n",
    "Immutable data types are the data types in which the data can be edited and changed after creation. For example, lists and dictionaries."
   ]
  },
  {
   "cell_type": "markdown",
   "id": "dc6f06fd",
   "metadata": {},
   "source": [
    "### 3.Fibonacci Sequence"
   ]
  },
  {
   "cell_type": "code",
   "execution_count": 5,
   "id": "6be91296",
   "metadata": {},
   "outputs": [
    {
     "name": "stdout",
     "output_type": "stream",
     "text": [
      "[1, 1, 2, 3, 5, 8, 13, 21, 34, 55]\n"
     ]
    }
   ],
   "source": [
    "def fibonacci(n):\n",
    "    if(n==2 or n==1):\n",
    "        return 1\n",
    "    return fibonacci(n-1)+fibonacci(n-2)\n",
    "\n",
    "# n=int(input(\"enter number here: \"))\n",
    "n=10\n",
    "# for testing (as jupyter was not taking input)\n",
    "\n",
    "list=[]\n",
    "for i in range(1,n+1):\n",
    "    list.append(fibonacci(i))\n",
    "\n",
    "print(list)"
   ]
  },
  {
   "cell_type": "code",
   "execution_count": 6,
   "id": "b817a098",
   "metadata": {},
   "outputs": [
    {
     "name": "stderr",
     "output_type": "stream",
     "text": [
      "C:\\Users\\acear\\AppData\\Local\\Temp\\ipykernel_2992\\2765106259.py:21: UserWarning: No artists with labels found to put in legend.  Note that artists whose label start with an underscore are ignored when legend() is called with no argument.\n",
      "  plt.legend()\n"
     ]
    },
    {
     "data": {
      "image/png": "[encoded data removed]",
      "text/plain": [
       "<Figure size 640x480 with 1 Axes>"
      ]
     },
     "metadata": {},
     "output_type": "display_data"
    }
   ],
   "source": [
    "def fibonacci(n):\n",
    "    if(n==2 or n==1):\n",
    "        return 1\n",
    "    return fibonacci(n-1)+fibonacci(n-2)\n",
    "\n",
    "# n=int(input(\"enter number here: \"))\n",
    "n=10\n",
    "# for testing (as jupyter was not taking input)\n",
    "\n",
    "list=[]\n",
    "for i in range(1,n+1):\n",
    "    list.append(fibonacci(i))\n",
    "\n",
    "import pandas as pd\n",
    "import numpy as np\n",
    "import matplotlib.pyplot as plt\n",
    "plt.plot([i for i in range(1,n+1)],list,'b.-')\n",
    "plt.xlabel=('i')\n",
    "plt.ylabel=('fib(i)')\n",
    "plt.title=('Fibonacci Sequence')\n",
    "plt.legend()\n",
    "plt.show()\n",
    "\n",
    "# graph labels to be resolved"
   ]
  },
  {
   "cell_type": "markdown",
   "id": "28938ac1",
   "metadata": {},
   "source": [
    "### 4.List Manipulation"
   ]
  },
  {
   "cell_type": "code",
   "execution_count": 7,
   "id": "68660077",
   "metadata": {},
   "outputs": [
    {
     "name": "stdout",
     "output_type": "stream",
     "text": [
      "[13, 11, 9, 6, 5, 3]\n",
      "mean is 7.833333333333333\n",
      "median is 7.5\n"
     ]
    }
   ],
   "source": [
    "list=[3,5,7,9,11,13]\n",
    "list.insert(3,6)\n",
    "list.remove(7)\n",
    "list=list[::-1]\n",
    "\n",
    "sum=0\n",
    "count=0\n",
    "for i in list:\n",
    "    sum+=i\n",
    "    count+=1\n",
    "mean=sum/count\n",
    "median=(list[count//2-1]+list[count//2])/2\n",
    "\n",
    "print(list)\n",
    "print(f\"mean is {mean}\\nmedian is {median}\")\n"
   ]
  },
  {
   "cell_type": "markdown",
   "id": "472508b1",
   "metadata": {},
   "source": [
    "### 5.User Input and Basic Statistics"
   ]
  },
  {
   "cell_type": "code",
   "execution_count": null,
   "id": "f20954db",
   "metadata": {},
   "outputs": [],
   "source": [
    "input=map(int,input.split(\",\"))"
   ]
  },
  {
   "cell_type": "code",
   "execution_count": null,
   "id": "da6f51c7",
   "metadata": {},
   "outputs": [],
   "source": [
    "input=map(int,input().split(\",\"))\n",
    "sum=0\n",
    "count=0\n",
    "for element in input:\n",
    "    sum+=element\n",
    "    count+=1\n",
    "mean=sum/count"
   ]
  }
 ],
 "metadata": {
  "kernelspec": {
   "display_name": "Python 3",
   "language": "python",
   "name": "python3"
  },
  "language_info": {
   "codemirror_mode": {
    "name": "ipython",
    "version": 3
   },
   "file_extension": ".py",
   "mimetype": "text/x-python",
   "name": "python",
   "nbconvert_exporter": "python",
   "pygments_lexer": "ipython3",
   "version": "3.12.8"
  }
 },
 "nbformat": 4,
 "nbformat_minor": 5
}
